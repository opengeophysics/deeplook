{
 "cells": [
  {
   "cell_type": "markdown",
   "metadata": {},
   "source": [
    "# Solving a linear problem\n",
    "\n",
    "Example of implementing a linear problem.\n",
    "We'll use the biharmonic spline interpolation problem."
   ]
  },
  {
   "cell_type": "code",
   "execution_count": null,
   "metadata": {},
   "outputs": [],
   "source": [
    "%matplotlib inline\n",
    "import numpy as np\n",
    "import matplotlib.pyplot as plt\n",
    "from sklearn.model_selection import KFold\n",
    "from sklearn.metrics import r2_score, mean_squared_error"
   ]
  },
  {
   "cell_type": "code",
   "execution_count": null,
   "metadata": {},
   "outputs": [],
   "source": [
    "def make_data(x):\n",
    "    return (2*np.sin(x) - 2.5*np.sin(0.5*(x - 30)) + 3*np.cos(0.3*(x))\n",
    "            + 0.5*np.sin(3*x))"
   ]
  },
  {
   "cell_type": "code",
   "execution_count": null,
   "metadata": {},
   "outputs": [],
   "source": [
    "np.random.seed(5)\n",
    "x = np.linspace(0, 20, 100)\n",
    "y = make_data(x)\n",
    "x_obs = np.random.choice(x, size=40)\n",
    "y_obs = make_data(x_obs)\n",
    "\n",
    "plt.figure()\n",
    "plt.plot(x_obs, y_obs, 'x')\n",
    "plt.plot(x, y, '-')"
   ]
  },
  {
   "cell_type": "code",
   "execution_count": null,
   "metadata": {},
   "outputs": [],
   "source": [
    "from deeplook import LinearMisfit\n",
    "from deeplook.regularization import Damping"
   ]
  },
  {
   "cell_type": "code",
   "execution_count": null,
   "metadata": {},
   "outputs": [],
   "source": [
    "class BiharmonicSpline1D():\n",
    "    \n",
    "    def __init__(self, damping=None):\n",
    "        self.damping = damping\n",
    "    \n",
    "    def jacobian(self, x):\n",
    "        ndata = x.size\n",
    "        jac = np.empty((ndata, self.nparams), dtype=np.float64)\n",
    "        for i in range(ndata):\n",
    "            jac[i, :] = np.abs(x[i] - self.x_forces)**3\n",
    "        return jac\n",
    "    \n",
    "    def predict(self, x):\n",
    "        return self.jacobian(x).dot(self.params_)\n",
    "    \n",
    "    def fit(self, x, y):\n",
    "        self.x_forces = x\n",
    "        self.nparams = x.size\n",
    "        jacobian = self.jacobian(x)\n",
    "        regul = []\n",
    "        if self.damping is not None:\n",
    "            regul.append(Damping(self.damping, self.nparams))\n",
    "        self.misfit = LinearMisfit(data=y, jacobian=jacobian, normalize=True,\n",
    "                                   regularization=regul)\n",
    "        self.params_ = self.misfit.minimize()\n",
    "        return self"
   ]
  },
  {
   "cell_type": "code",
   "execution_count": null,
   "metadata": {},
   "outputs": [],
   "source": [
    "interp = BiharmonicSpline1D(damping=1e-3).fit(x_obs, y_obs)\n",
    "\n",
    "plt.figure()\n",
    "plt.plot(x_obs, y_obs, 'x')\n",
    "plt.plot(x, interp.predict(x), '-r')\n",
    "plt.plot(x, y, '--b')"
   ]
  },
  {
   "cell_type": "code",
   "execution_count": null,
   "metadata": {
    "scrolled": true
   },
   "outputs": [],
   "source": [
    "class BiharmonicSpline1DCV(BiharmonicSpline1D):\n",
    "    def __init__(self, dampings):\n",
    "        super().__init__()\n",
    "        self.dampings = dampings\n",
    "\n",
    "    def fit(self, x, y):\n",
    "        size = len(self.dampings)\n",
    "        self.scores = np.empty(size, dtype=np.float)\n",
    "        folds = KFold()\n",
    "        for i, damping in enumerate(self.dampings):\n",
    "            score = 0\n",
    "            spline = BiharmonicSpline1D(damping=damping)\n",
    "            for train, test in folds.split(x):\n",
    "                spline.fit(x[train], y[train])\n",
    "                score += mean_squared_error(y[test], spline.predict(x[test])) \n",
    "            self.scores[i] = score/folds.n_splits\n",
    "        self.damping = self.dampings[np.argmin(self.scores)]\n",
    "        super().fit(x, y)\n",
    "        return self\n",
    "        "
   ]
  },
  {
   "cell_type": "code",
   "execution_count": null,
   "metadata": {},
   "outputs": [],
   "source": [
    "dampings = np.array([10**(i) for i in range(-14, 0)])\n",
    "spline_cv = BiharmonicSpline1DCV(dampings).fit(x_obs, y_obs)"
   ]
  },
  {
   "cell_type": "code",
   "execution_count": null,
   "metadata": {},
   "outputs": [],
   "source": [
    "plt.figure()\n",
    "plt.plot(dampings, spline_cv.scores)\n",
    "plt.xscale('log')\n",
    "plt.yscale('log')"
   ]
  },
  {
   "cell_type": "code",
   "execution_count": null,
   "metadata": {},
   "outputs": [],
   "source": [
    "plt.figure()\n",
    "plt.plot(x_obs, y_obs, 'x')\n",
    "plt.plot(x, interp.predict(x), '-r')\n",
    "plt.plot(x, spline_cv.predict(x), '--g')\n",
    "plt.plot(x, y, '--b')"
   ]
  },
  {
   "cell_type": "code",
   "execution_count": null,
   "metadata": {},
   "outputs": [],
   "source": []
  }
 ],
 "metadata": {
  "kernelspec": {
   "display_name": "Python 3",
   "language": "python",
   "name": "python3"
  },
  "language_info": {
   "codemirror_mode": {
    "name": "ipython",
    "version": 3
   },
   "file_extension": ".py",
   "mimetype": "text/x-python",
   "name": "python",
   "nbconvert_exporter": "python",
   "pygments_lexer": "ipython3",
   "version": "3.6.4"
  }
 },
 "nbformat": 4,
 "nbformat_minor": 2
}
