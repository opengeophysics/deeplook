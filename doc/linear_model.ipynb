{
 "cells": [
  {
   "cell_type": "markdown",
   "metadata": {},
   "source": [
    "# Solving a linear problem\n",
    "\n",
    "Example of implementing a linear problem.\n",
    "We'll use the biharmonic spline interpolation problem."
   ]
  },
  {
   "cell_type": "code",
   "execution_count": null,
   "metadata": {},
   "outputs": [],
   "source": [
    "%matplotlib inline\n",
    "import numpy as np\n",
    "import matplotlib.pyplot as plt\n",
    "from sklearn.model_selection import KFold"
   ]
  },
  {
   "cell_type": "code",
   "execution_count": null,
   "metadata": {},
   "outputs": [],
   "source": [
    "def make_data(x):\n",
    "    return (2*np.sin(x) - 2.5*np.sin(0.5*(x - 30)) + 3*np.cos(0.3*(x))\n",
    "            + 0.5*np.sin(3*x))"
   ]
  },
  {
   "cell_type": "code",
   "execution_count": null,
   "metadata": {},
   "outputs": [],
   "source": [
    "np.random.seed(5)\n",
    "x_all = np.random.uniform(0, 21, 50)\n",
    "y_all = make_data(x_all)\n",
    "x_dense = np.linspace(x_all.min(), x_all.max(), 200)\n",
    "y_dense = make_data(x_dense)\n",
    "x_train = x_all[:-20]\n",
    "x_test = x_all[-20:]\n",
    "y_train = y_all[:-20]\n",
    "y_test = y_all[-20:]\n",
    "\n",
    "plt.figure()\n",
    "plt.plot(x_train, y_train, 'x')\n",
    "plt.plot(x_dense, y_dense, '-')"
   ]
  },
  {
   "cell_type": "code",
   "execution_count": null,
   "metadata": {},
   "outputs": [],
   "source": [
    "from deeplook import LinearModel, LinearMisfit"
   ]
  },
  {
   "cell_type": "code",
   "execution_count": null,
   "metadata": {},
   "outputs": [],
   "source": [
    "class BiharmonicSpline1D(LinearModel):\n",
    "    \n",
    "    def __init__(self, x_forces=None):\n",
    "        self.x_forces = x_forces\n",
    "        if x_forces is None:\n",
    "            nparams = None\n",
    "        else:\n",
    "            nparams = x_forces.size\n",
    "        super().__init__(nparams=nparams)\n",
    "    \n",
    "    def jacobian(self, x):\n",
    "        ndata = x.size\n",
    "        jac = np.empty((ndata, self.nparams), dtype=np.float32)\n",
    "        for i in range(ndata):\n",
    "            jac[i, :] = np.abs(x[i] - self.x_forces)**3\n",
    "        return jac\n",
    "    \n",
    "    def predict(self, x):\n",
    "        return self.jacobian(x).dot(self.params_)\n",
    "    \n",
    "    def fit(self, x, y):\n",
    "        if self.x_forces is None:\n",
    "            self.x_forces = x\n",
    "            self.nparams = x.size\n",
    "        jacobian = self.jacobian(x)\n",
    "        self.misfit = LinearMisfit(data=y, jacobian=jacobian, normalize=True)\n",
    "        self.params_ = self.misfit.minimize()\n",
    "        return self"
   ]
  },
  {
   "cell_type": "code",
   "execution_count": null,
   "metadata": {},
   "outputs": [],
   "source": [
    "np.average()"
   ]
  },
  {
   "cell_type": "code",
   "execution_count": null,
   "metadata": {},
   "outputs": [],
   "source": [
    "interp = BiharmonicSpline1D().fit(x_train, y_train)\n",
    "print(interp.r2_score(y_test, (x_test,)))\n",
    "\n",
    "plt.figure()\n",
    "plt.plot(x_train, y_train, 'x')\n",
    "plt.plot(x_dense, interp.predict(x_dense), '-r')\n",
    "plt.plot(x_dense, y_dense, '--b')"
   ]
  },
  {
   "cell_type": "code",
   "execution_count": null,
   "metadata": {},
   "outputs": [],
   "source": [
    "n_forces = np.arange(3, x_train.size - 17, 1, dtype=np.int)\n",
    "scores = np.zeros_like(n_forces, dtype=np.float)\n",
    "folds = KFold()\n",
    "for i, n in enumerate(n_forces):\n",
    "    x_forces = np.linspace(x_train.min(), x_train.max(), n)\n",
    "    score = 0\n",
    "    candidate = BiharmonicSpline1D(x_forces)\n",
    "    for train, test in folds.split(x_train):\n",
    "        candidate.fit(x_train[train], y_train[train])\n",
    "        score += candidate.r2_score(y_train[test], (x_train[test],)) \n",
    "    scores[i] = score/folds.n_splits\n",
    "best_n = n_forces[np.argmax(scores)]\n",
    "print(best_n)"
   ]
  },
  {
   "cell_type": "code",
   "execution_count": null,
   "metadata": {},
   "outputs": [],
   "source": [
    "plt.figure()\n",
    "plt.plot(n_forces, scores)"
   ]
  },
  {
   "cell_type": "code",
   "execution_count": null,
   "metadata": {},
   "outputs": [],
   "source": [
    "interp_opt = BiharmonicSpline1D(np.linspace(x_train.min(), x_train.max(), best_n)).fit(x_train, y_train)\n",
    "print(interp_opt.r2_score(y_test, (x_test,)))\n",
    "\n",
    "plt.figure()\n",
    "plt.plot(x_train, y_train, 'x')\n",
    "plt.plot(x_dense, interp.predict(x_dense), '-r')\n",
    "plt.plot(x_dense, interp_opt.predict(x_dense), '--g')\n",
    "plt.plot(x_dense, y_dense, '--b')"
   ]
  },
  {
   "cell_type": "code",
   "execution_count": null,
   "metadata": {},
   "outputs": [],
   "source": []
  }
 ],
 "metadata": {
  "kernelspec": {
   "display_name": "Python 3",
   "language": "python",
   "name": "python3"
  },
  "language_info": {
   "codemirror_mode": {
    "name": "ipython",
    "version": 3
   },
   "file_extension": ".py",
   "mimetype": "text/x-python",
   "name": "python",
   "nbconvert_exporter": "python",
   "pygments_lexer": "ipython3",
   "version": "3.6.4"
  }
 },
 "nbformat": 4,
 "nbformat_minor": 2
}
